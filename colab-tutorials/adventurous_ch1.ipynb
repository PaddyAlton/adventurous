{
  "nbformat": 4,
  "nbformat_minor": 0,
  "metadata": {
    "colab": {
      "name": "adventurous-ch1.ipynb",
      "provenance": [],
      "collapsed_sections": [],
      "authorship_tag": "ABX9TyO1fnlJhsXfiw7K7qfayLhu",
      "include_colab_link": true
    },
    "kernelspec": {
      "name": "python3",
      "display_name": "Python 3"
    }
  },
  "cells": [
    {
      "cell_type": "markdown",
      "metadata": {
        "id": "view-in-github",
        "colab_type": "text"
      },
      "source": [
        "<a href=\"https://colab.research.google.com/github/PaddyAlton/adventurous/blob/master/colab-tutorials/adventurous_ch1.ipynb\" target=\"_parent\"><img src=\"https://colab.research.google.com/assets/colab-badge.svg\" alt=\"Open In Colab\"/></a>"
      ]
    },
    {
      "cell_type": "markdown",
      "metadata": {
        "id": "pdrC8zttEjKf",
        "colab_type": "text"
      },
      "source": [
        "ADVENTUROUS - CHAPTER 1\n",
        "=======================\n",
        "\n",
        "Welcome back to `ADVENTUROUS`! And welcome to ... **the machine labyrinth**.\n",
        "\n",
        "In this chapter we are going to learn about a very important programming concept, *functions*. Needless to say, we're also going to take the next steps in our adventure.\n"
      ]
    },
    {
      "cell_type": "markdown",
      "metadata": {
        "id": "jE3en8RNJigi",
        "colab_type": "text"
      },
      "source": [
        "We put the 'fun' into function\n",
        "------------------------------\n",
        "\n",
        "So what's a function?\n",
        "\n",
        "You find yourself trapped in a room with a mysterious machine. You don't know what it does, but it's *very* important you find out.\n",
        "\n",
        "When we talk about 'what a machine does', we might ask 'what *function* does this machine have?' Let's switch on the machine and see!"
      ]
    },
    {
      "cell_type": "code",
      "metadata": {
        "id": "_wSj31AyEPtC",
        "colab_type": "code",
        "colab": {}
      },
      "source": [
        "#@title <- run this cell to turn the machine on {display-mode: 'form'}\n",
        "\n",
        "def machine():\n",
        "    return 'cake'"
      ],
      "execution_count": 0,
      "outputs": []
    },
    {
      "cell_type": "markdown",
      "metadata": {
        "id": "ewvB-fWAKvvb",
        "colab_type": "text"
      },
      "source": [
        "There's a button on the machine, it looks like this: `()`\n",
        "\n",
        "Press it by running the cell below..."
      ]
    },
    {
      "cell_type": "code",
      "metadata": {
        "id": "5PzsHprfKlSD",
        "colab_type": "code",
        "outputId": "e4f53be4-4ccf-4b8e-9695-1d45639a52cc",
        "colab": {
          "base_uri": "https://localhost:8080/",
          "height": 35
        }
      },
      "source": [
        "machine()"
      ],
      "execution_count": 38,
      "outputs": [
        {
          "output_type": "execute_result",
          "data": {
            "text/plain": [
              "'cake'"
            ]
          },
          "metadata": {
            "tags": []
          },
          "execution_count": 38
        }
      ]
    },
    {
      "cell_type": "markdown",
      "metadata": {
        "id": "KbhboU6jLFdY",
        "colab_type": "text"
      },
      "source": [
        "When you press the button, the machine spits out cake.\n",
        "\n",
        "Now you have cake, which is great. You can't take the machine out of the room, but it might be nice to know how it works. So you take the machine apart."
      ]
    },
    {
      "cell_type": "code",
      "metadata": {
        "id": "RWMbM1IsLEFB",
        "colab_type": "code",
        "colab": {}
      },
      "source": [
        "def machine():\n",
        "  return 'cake'"
      ],
      "execution_count": 0,
      "outputs": []
    },
    {
      "cell_type": "markdown",
      "metadata": {
        "id": "ScONgOR9MOCj",
        "colab_type": "text"
      },
      "source": [
        "There are surprisingly few parts!\n",
        "\n",
        "Let's look at them, one by one:\n",
        "\n",
        "* `def` - this is short for 'define'. It means we're about to set up a function.\n",
        "* `machine` - just the name of the function\n",
        "* `:` and indentation - just like in the prologue where we encountered 'if blocks', these tell us which lines of code are part of the *function definition*\n",
        "* `return` - this determines what the function is going to give back to us - in this case, cake\n",
        "\n",
        "There's nothing else in the room, so you decide to move on. There's a door into an adjoining room. What's this? *Another* machine? You realise that this must be ... **the machine labyrinth** - a maze of mad machines from which you must try to escape. \n",
        "\n",
        "This time, you press the button and nothing happens. You notice that the machine has what appears to be a coin slot... let's take it apart, and this time *be careful* when you reassemble it!"
      ]
    },
    {
      "cell_type": "code",
      "metadata": {
        "id": "I759qOWFML6P",
        "colab_type": "code",
        "colab": {}
      },
      "source": [
        "def new_machine(whats_in_the_slot):\n",
        "\n",
        "  if whats_in_the_slot == 'coin':\n",
        "    return 'cake'\n",
        "  else:\n",
        "    return 'you get nothing!'"
      ],
      "execution_count": 0,
      "outputs": []
    },
    {
      "cell_type": "markdown",
      "metadata": {
        "id": "l3b-bI8FXrtB",
        "colab_type": "text"
      },
      "source": [
        "You successfully put the machine back together. From your examination, it looks like you need to put a coin in the slot to get cake back. Otherwise, you get nothing!\n",
        "\n",
        "Let's check that's true."
      ]
    },
    {
      "cell_type": "code",
      "metadata": {
        "id": "zYblex89YDSP",
        "colab_type": "code",
        "outputId": "735c5b27-5985-4244-819a-7f7a42911ff1",
        "colab": {
          "base_uri": "https://localhost:8080/",
          "height": 35
        }
      },
      "source": [
        "new_machine('coin')"
      ],
      "execution_count": 41,
      "outputs": [
        {
          "output_type": "execute_result",
          "data": {
            "text/plain": [
              "'cake'"
            ]
          },
          "metadata": {
            "tags": []
          },
          "execution_count": 41
        }
      ]
    },
    {
      "cell_type": "code",
      "metadata": {
        "id": "Et6QDoGCYJFW",
        "colab_type": "code",
        "outputId": "0ee76b97-2ec9-4b2f-e79f-6df7a3ec49f7",
        "colab": {
          "base_uri": "https://localhost:8080/",
          "height": 35
        }
      },
      "source": [
        "new_machine('something else')"
      ],
      "execution_count": 42,
      "outputs": [
        {
          "output_type": "execute_result",
          "data": {
            "text/plain": [
              "'you get nothing!'"
            ]
          },
          "metadata": {
            "tags": []
          },
          "execution_count": 42
        }
      ]
    },
    {
      "cell_type": "markdown",
      "metadata": {
        "id": "RhQNuRIDYRNm",
        "colab_type": "text"
      },
      "source": [
        "It seems you were right.\n",
        "\n",
        "So how does the new machine work? We can see it's very similar to before, except now we have `new_machine(whats_in_the_slot):`.\n",
        "\n",
        "Remember - code can have inputs and outputs. A function is like a packaged up micro-programme that can be used and reused, so it too can have inputs and outputs.\n",
        "\n",
        "We already saw that `return` tells us the outputs of the function. If there are inputs, these are found in the `()`s. We sometimes call inputs to a function the function's '*arguments*' (it doesn't mean the function has a lot of disagreements). \n",
        "\n",
        "The new machine has only one input, `whats_in_the_slot`, but functions can have as many inputs and outputs as you like."
      ]
    },
    {
      "cell_type": "markdown",
      "metadata": {
        "id": "12rDdMpzo4sj",
        "colab_type": "text"
      },
      "source": [
        "Colourful coding\n",
        "----------------\n",
        "\n",
        "You walk into the next room. Once again, there is a machine, but this one looks a little more complicated.\n",
        "\n",
        "Against the wall there are three jars of coloured marbles: red ones, green ones, and blue.\n",
        "\n",
        "The machine looks like it has two different slots that are the right shape and size for the marbles..."
      ]
    },
    {
      "cell_type": "code",
      "metadata": {
        "id": "lOtoBxfcYPrt",
        "colab_type": "code",
        "colab": {}
      },
      "source": [
        "def marble_mixer(marble1, marble2):\n",
        "\n",
        "  if marble1 == marble2:\n",
        "    return marble1\n",
        "\n",
        "  if marble1 == 'green' and marble2 == 'red':\n",
        "    return 'yellow'\n",
        "\n",
        "  if marble1 == 'green' and marble2 == 'blue':\n",
        "    return 'cyan'\n",
        "\n",
        "  if marble1 == 'red':\n",
        "    if marble2 == 'green':\n",
        "      return 'yellow'\n",
        "    if marble2 == 'blue':\n",
        "      return 'magenta'\n",
        "\n",
        "  if marble1 == 'blue' and marble2 == 'green':\n",
        "    return 'cyan'\n",
        "    \n",
        "  if marble1 == 'blue' and marble2 == 'red':\n",
        "    return 'magenta'"
      ],
      "execution_count": 0,
      "outputs": []
    },
    {
      "cell_type": "markdown",
      "metadata": {
        "id": "Oz2LSjdv7IUh",
        "colab_type": "text"
      },
      "source": [
        "Take a moment to carefully examine the `marble_mixer`.\n",
        "\n",
        "It seems that it will combine two marbles into one, according to some rules.\n",
        "\n",
        "**Important:** if a function is running and reaches a `return` statement, at that point it will stop running and send you the output. Any further code in the function won't run.\n",
        "\n",
        "(this is why you don't see an `elif` or `else` - we don't need them)\n",
        "\n",
        "The machine's mechanism (in coding, we call it 'the function's *implementation*') shows you two different ways of doing the same thing.\n",
        "\n",
        "1. `marble1 == 'green' and marble2 == 'red'`\n",
        "2. ```\n",
        "  if marble1 == 'red':\n",
        "    if marble2 == 'green':\n",
        "      return 'yellow'\n",
        "```\n",
        "\n",
        "First way: check two things in one `if` statement. If both are `True`, return `'yellow'`.\n",
        "\n",
        "Second way: 'nest' the `if` statements. See how you \n",
        "> indent once for the 'outer' statement\n",
        ">> then twice for the inner one?\n",
        "\n",
        "This way, if the first marble is red, we then (and only then) check whether the second marble is green. If it is, *then* we return `'yellow'`.\n",
        "\n",
        "Let's play with the machine a bit. Feel free to edit the cell below and run the machine with different inputs:\n"
      ]
    },
    {
      "cell_type": "code",
      "metadata": {
        "id": "8adEuiw_97Ee",
        "colab_type": "code",
        "outputId": "11ced944-ce88-48f7-efc8-76eeb00b00dc",
        "colab": {
          "base_uri": "https://localhost:8080/",
          "height": 35
        }
      },
      "source": [
        "m1 = 'red'\n",
        "m2 = 'blue'\n",
        "\n",
        "marble_mixer(m1, m2)"
      ],
      "execution_count": 44,
      "outputs": [
        {
          "output_type": "execute_result",
          "data": {
            "text/plain": [
              "'magenta'"
            ]
          },
          "metadata": {
            "tags": []
          },
          "execution_count": 44
        }
      ]
    },
    {
      "cell_type": "markdown",
      "metadata": {
        "id": "lenuXtu3-xwq",
        "colab_type": "text"
      },
      "source": [
        "Notice how when you use the machine, you don't have to call the inputs the same thing as you did when you built it.\n",
        "\n",
        "This is important - `marble1` and `marble2` - the variables we said were the inputs of the function - *only exist inside the function*.\n",
        "\n",
        "Variables that exist *outside the function* can be used inside it, but we tend to avoid doing this as it becomes complicated to keep track of everything."
      ]
    },
    {
      "cell_type": "markdown",
      "metadata": {
        "id": "gotiorcW9gUb",
        "colab_type": "text"
      },
      "source": [
        "![marble colours](https://upload.wikimedia.org/wikipedia/commons/2/28/RGB_illumination.jpg)"
      ]
    },
    {
      "cell_type": "markdown",
      "metadata": {
        "id": "NgWfe1i_1GtZ",
        "colab_type": "text"
      },
      "source": [
        "Now, how do we get out of this room? It seems the door is locked...\n",
        "\n",
        "It has a strange looking mechanism on it with three marble-sized slots. Each is a different colour...\n",
        "\n",
        "* cyan\n",
        "* yellow\n",
        "* magenta\n",
        "\n",
        "Quick-thinking as ever, you realise you're going to have to manufacture a marble for each slot to get the door open!"
      ]
    },
    {
      "cell_type": "code",
      "metadata": {
        "id": "ABIduo2c7HJ3",
        "colab_type": "code",
        "colab": {}
      },
      "source": [
        "def funny_looking_door(c, y, m):\n",
        "\n",
        "  print('You drop the marbles into the three slots. ')\n",
        "\n",
        "  if c == 'cyan' and y == 'yellow' and m == 'magenta':\n",
        "    print('The door opens!')\n",
        "  else:\n",
        "    print('The door remains locked...')"
      ],
      "execution_count": 0,
      "outputs": []
    },
    {
      "cell_type": "markdown",
      "metadata": {
        "id": "_5b006UN2x7n",
        "colab_type": "text"
      },
      "source": [
        "Take a close look at the door mechanism.\n",
        "\n",
        "You'll see we used `print` instead of `return`. \n",
        "\n",
        "`return` ends a function and passes you the output. Your main programme can then make use of this output.\n",
        "\n",
        "`print` does *not* end a function. It outputs text from the programme directly, rather than passing it to you.\n",
        "\n",
        "(this is why we use `if`/`else` in this function - we don't want the third `print` to run if the `if` statement is `True`)\n",
        "\n",
        "Let's see what the difference is by opening that door!"
      ]
    },
    {
      "cell_type": "code",
      "metadata": {
        "id": "gniL3rED2cky",
        "colab_type": "code",
        "outputId": "1c67ed33-75bc-45cc-eb5b-a069f860b738",
        "colab": {
          "base_uri": "https://localhost:8080/",
          "height": 54
        }
      },
      "source": [
        "# the output returned by marble_mixer is stored in the variable m1\n",
        "m1 = marble_mixer('blue', 'green')\n",
        "# the output returned by marble_mixer is stored in the variable m2\n",
        "m2 = marble_mixer('red', 'green')\n",
        "# the output returned by marble_mixer is stored in the variable m3\n",
        "m3 = marble_mixer('red', 'blue')\n",
        "\n",
        "funny_looking_door(m1, m2, m3)"
      ],
      "execution_count": 46,
      "outputs": [
        {
          "output_type": "stream",
          "text": [
            "You drop the marbles into the three slots. \n",
            "The door opens!\n"
          ],
          "name": "stdout"
        }
      ]
    },
    {
      "cell_type": "markdown",
      "metadata": {
        "id": "okLr3HWT6LH_",
        "colab_type": "text"
      },
      "source": [
        "Did you see what happened?\n",
        "\n",
        "`marble_mixer('blue', 'green')` returns 'cyan'. We stored `cyan` in `m1`.\n",
        "\n",
        "We then reused `m1` as the first input to `funny_looking_door`.\n",
        "\n",
        "`funny_looking_door` *always* prints 'You drop the marbles into the three slots.'\n",
        "\n",
        "Because we put the right colours into the slots, when `funny_looking_door` runs, it prints 'The door opens!'.\n",
        "\n",
        "Try changing some of the colours in the last code cell and see when the door opens and when it remains closed."
      ]
    },
    {
      "cell_type": "markdown",
      "metadata": {
        "id": "t7I2dabf7GW2",
        "colab_type": "text"
      },
      "source": [
        "Default Dangerous\n",
        "-----------------\n",
        "\n",
        "You've successfully unlocked the door. There's a flash of white light and it swings open, revealing a long corridor.\n",
        "\n",
        "At the end of the corridor is another door..."
      ]
    },
    {
      "cell_type": "code",
      "metadata": {
        "id": "nCn1rKVhmVWF",
        "colab_type": "code",
        "colab": {
          "base_uri": "https://localhost:8080/",
          "height": 35
        },
        "outputId": "c519d02e-014b-456d-c825-00fcb6033e45"
      },
      "source": [
        "def locked_door(in_keyhole='Nothing'):\n",
        "\n",
        "  if in_keyhole == 'A key':\n",
        "    print('The door opens!')\n",
        "  else:\n",
        "    print('The door remains closed.')\n",
        "\n",
        "locked_door()"
      ],
      "execution_count": 47,
      "outputs": [
        {
          "output_type": "stream",
          "text": [
            "The door remains closed.\n"
          ],
          "name": "stdout"
        }
      ]
    },
    {
      "cell_type": "markdown",
      "metadata": {
        "id": "8t67SqwMmUsM",
        "colab_type": "text"
      },
      "source": [
        "... which is locked.\n",
        "\n",
        "Halfway down the corridor you find a small room with a box in it."
      ]
    },
    {
      "cell_type": "code",
      "metadata": {
        "id": "cJ5PVo3i6JVg",
        "colab_type": "code",
        "colab": {}
      },
      "source": [
        "def mystery_box(number=1):\n",
        "\n",
        "  if number == 1:\n",
        "    return 'Nothing'\n",
        "  if number == 2:\n",
        "    return 'A flower'\n",
        "  if number == 3:\n",
        "    return 'A gold coin'\n",
        "  if number == 4:\n",
        "    return 'A key'"
      ],
      "execution_count": 0,
      "outputs": []
    },
    {
      "cell_type": "markdown",
      "metadata": {
        "id": "r-WDrAa0lxzp",
        "colab_type": "text"
      },
      "source": [
        "You open the box. "
      ]
    },
    {
      "cell_type": "code",
      "metadata": {
        "id": "THiU2K8blyTO",
        "colab_type": "code",
        "colab": {
          "base_uri": "https://localhost:8080/",
          "height": 35
        },
        "outputId": "b583a540-79a8-4cd2-d374-895ab61e3d9b"
      },
      "source": [
        "mystery_box()"
      ],
      "execution_count": 49,
      "outputs": [
        {
          "output_type": "execute_result",
          "data": {
            "text/plain": [
              "'Nothing'"
            ]
          },
          "metadata": {
            "tags": []
          },
          "execution_count": 49
        }
      ]
    },
    {
      "cell_type": "markdown",
      "metadata": {
        "id": "Hz2teI0wNjuk",
        "colab_type": "text"
      },
      "source": [
        "It is empty.\n",
        "\n",
        "Closing the box, you see it has a number pad on it. You can enter the numbers one, two, three, or four...\n",
        "\n",
        "You press 2, and open the box."
      ]
    },
    {
      "cell_type": "code",
      "metadata": {
        "id": "G5piN1A0mGBG",
        "colab_type": "code",
        "colab": {
          "base_uri": "https://localhost:8080/",
          "height": 35
        },
        "outputId": "bc59b1b0-5cd8-44bf-eee3-1dbe0d12e59e"
      },
      "source": [
        "mystery_box(number=2)"
      ],
      "execution_count": 50,
      "outputs": [
        {
          "output_type": "execute_result",
          "data": {
            "text/plain": [
              "'A flower'"
            ]
          },
          "metadata": {
            "tags": []
          },
          "execution_count": 50
        }
      ]
    },
    {
      "cell_type": "markdown",
      "metadata": {
        "id": "t752_nijmReK",
        "colab_type": "text"
      },
      "source": [
        "This time there's a flower inside! You put it back and try again..."
      ]
    },
    {
      "cell_type": "code",
      "metadata": {
        "id": "zMkzuwDhmIrV",
        "colab_type": "code",
        "colab": {
          "base_uri": "https://localhost:8080/",
          "height": 35
        },
        "outputId": "89eba00a-df6a-4088-c9b7-eb7dbea8c67a"
      },
      "source": [
        "mystery_box(number=4)"
      ],
      "execution_count": 51,
      "outputs": [
        {
          "output_type": "execute_result",
          "data": {
            "text/plain": [
              "'A key'"
            ]
          },
          "metadata": {
            "tags": []
          },
          "execution_count": 51
        }
      ]
    },
    {
      "cell_type": "markdown",
      "metadata": {
        "id": "yqaSmJ8Wm3-g",
        "colab_type": "text"
      },
      "source": [
        "That's more like it!"
      ]
    },
    {
      "cell_type": "code",
      "metadata": {
        "id": "0FWx3d6Km3EN",
        "colab_type": "code",
        "colab": {
          "base_uri": "https://localhost:8080/",
          "height": 35
        },
        "outputId": "83b893a8-7aac-44d4-bff9-8fafcb907363"
      },
      "source": [
        "key = mystery_box(number=4)\n",
        "\n",
        "locked_door(in_keyhole=key)"
      ],
      "execution_count": 52,
      "outputs": [
        {
          "output_type": "stream",
          "text": [
            "The door opens!\n"
          ],
          "name": "stdout"
        }
      ]
    },
    {
      "cell_type": "markdown",
      "metadata": {
        "id": "2sei05NBngz_",
        "colab_type": "text"
      },
      "source": [
        "The mystery box and the locked door both use what we call 'default arguments', 'named arguments', or 'keyword aruments'.\n",
        "\n",
        "These are special inputs. When you use a function with named arguments, you can either not mention these inputs (like when you ran `mystery_box()`), or you can refer to them by name (like when you ran `mystery_box(number=4)`).\n",
        "\n",
        "If you don't mention them, the default value is used. When we defined `mystery_box`, we decided the default value for `number` was 1:\n",
        "\n",
        "```\n",
        "def mystery_box(number=1):\n",
        "```\n",
        "\n",
        "... and that is why the box was empty when you didn't press a number on the keypad."
      ]
    },
    {
      "cell_type": "markdown",
      "metadata": {
        "id": "J6EBtLHlsOH2",
        "colab_type": "text"
      },
      "source": [
        "Wrapping up\n",
        "-----------\n",
        "\n",
        "Phew! The door opens and sunlight streams in. You've escaped from the machine labyrinth.\n",
        "\n",
        "In this lesson you should have learnt:\n",
        "\n",
        "* what functions are - re-usable mini-programmes\n",
        "* about function arguments - functions can have inputs\n",
        "* the difference between `return` (which hands function outputs back to you and exits the function) and `print`(which writes out text from the programme but doesn't exit the function)\n",
        "* about keyword/default/named arguments\n",
        "\n",
        "Time for the next chapter..."
      ]
    },
    {
      "cell_type": "code",
      "metadata": {
        "id": "8VhFaw4fnYdz",
        "colab_type": "code",
        "colab": {
          "base_uri": "https://localhost:8080/",
          "height": 201
        },
        "outputId": "531bde8d-4c27-4b45-cf81-db076c3f2083"
      },
      "source": [
        "#@title ADVENTUROUS: chapter one {display-mode: \"form\"}\n",
        "\n",
        "def intro():\n",
        "  print(\n",
        "      \"\"\"\n",
        "      The two of you have been on the road about an hour.\n",
        "      Bleakback hill has receded into the distance like a bad dream at waking.\n",
        "\n",
        "      You are carrying the bag with your tents.\n",
        "      The man has taken the ragged blue banner and has swung it over one shoulder.\n",
        "      It seems important to him.\n",
        "\n",
        "      In the distance you see smoke rising...\n",
        "      \"\"\"\n",
        "  )\n",
        "\n",
        "intro()"
      ],
      "execution_count": 55,
      "outputs": [
        {
          "output_type": "stream",
          "text": [
            "\n",
            "      The two of you have been on the road about an hour.\n",
            "      Bleakback hill has receded into the distance like a bad dream at waking.\n",
            "\n",
            "      You are carrying the bag with your tents.\n",
            "      The man has taken the ragged blue banner and has swung it over one shoulder.\n",
            "      It seems important to him.\n",
            "\n",
            "      In the distance you see smoke rising...\n",
            "      \n"
          ],
          "name": "stdout"
        }
      ]
    },
    {
      "cell_type": "code",
      "metadata": {
        "id": "MctIRW5-vO3t",
        "colab_type": "code",
        "colab": {}
      },
      "source": [
        ""
      ],
      "execution_count": 0,
      "outputs": []
    }
  ]
}