{
  "nbformat": 4,
  "nbformat_minor": 0,
  "metadata": {
    "colab": {
      "name": "adventurous-intro.ipynb",
      "provenance": [],
      "collapsed_sections": [],
      "authorship_tag": "ABX9TyN4hjiXDQ7C6CBNby/2AZFQ",
      "include_colab_link": true
    },
    "kernelspec": {
      "name": "python3",
      "display_name": "Python 3"
    }
  },
  "cells": [
    {
      "cell_type": "markdown",
      "metadata": {
        "id": "view-in-github",
        "colab_type": "text"
      },
      "source": [
        "<a href=\"https://colab.research.google.com/github/PaddyAlton/adventurous/blob/master/colab-tutorials/adventurous_intro.ipynb\" target=\"_parent\"><img src=\"https://colab.research.google.com/assets/colab-badge.svg\" alt=\"Open In Colab\"/></a>"
      ]
    },
    {
      "cell_type": "markdown",
      "metadata": {
        "id": "GzgMYPA8fnYy",
        "colab_type": "text"
      },
      "source": [
        "Welcome!\n",
        "========\n",
        "\n",
        "Hi there, and welcome to `ADVENTUROUS`.\n",
        "\n",
        "This is the first tutorial. We're going to learn a little bit about a programming language called `python`, and then get started building some games!\n",
        "\n",
        "All the tutorials are hosted on Google Colab as interactive notebooks. You're in one right now! These are great because you can use them to start writing `python` without downloading *anything* onto your computer."
      ]
    },
    {
      "cell_type": "markdown",
      "metadata": {
        "id": "GVhlUu8chtB5",
        "colab_type": "text"
      },
      "source": [
        "Notebooks are a combination of TEXT CELLS (like this one) and CODE CELLS.\n",
        "\n",
        "We use text cells to explain what's going on, and code cells to write `python`.\n",
        "\n",
        "Let's get started."
      ]
    },
    {
      "cell_type": "markdown",
      "metadata": {
        "id": "YixrnllHiF2h",
        "colab_type": "text"
      },
      "source": [
        "You put your left foot in ...\n",
        "-----------------------------\n",
        "\n",
        "The first thing to learn is that computer code has **inputs** and **outputs**.\n",
        "\n",
        "What I mean is: when we run code, it will sometimes *ask you for things*, and sometimes *it will give you things*.\n",
        "\n",
        "There are all sorts of types of inputs and outputs and ways in which they can be handled, but we're going to keep it super simple and focus on *text*.\n",
        "\n",
        "To run the code cell below, hover over the `[ ]` on the left side and click the play button (or click the cell and press `shift + enter`)."
      ]
    },
    {
      "cell_type": "code",
      "metadata": {
        "id": "F1mW3Dz8KRRa",
        "colab_type": "code",
        "outputId": "97d5989a-df6d-4a09-c943-f1485ba8c7c3",
        "colab": {
          "base_uri": "https://localhost:8080/",
          "height": 34
        }
      },
      "source": [
        "print(\"A wild mechafox appears!\")"
      ],
      "execution_count": 0,
      "outputs": [
        {
          "output_type": "stream",
          "text": [
            "A wild mechafox appears!\n"
          ],
          "name": "stdout"
        }
      ]
    },
    {
      "cell_type": "markdown",
      "metadata": {
        "id": "MxSgTHGxndli",
        "colab_type": "text"
      },
      "source": [
        "The first time will sometimes take a while (because Colab has to connect to a remote computer to run the code for you).\n",
        "\n",
        "You should see some text appear under the cell. `print` is how you can tell `python` to output text.\n",
        "\n",
        "You can output all sorts of things, some of which you wouldn't think of as text. That's because it's really something called 'unicode', a universal way of representing symbols - english text, languages with other writing systems, even emoji!\n",
        "\n",
        "Try it:"
      ]
    },
    {
      "cell_type": "code",
      "metadata": {
        "id": "mD1WqTbhnmFR",
        "colab_type": "code",
        "outputId": "5e1916f6-8f65-415d-d0e8-265a97e4ee8a",
        "colab": {
          "base_uri": "https://localhost:8080/",
          "height": 34
        }
      },
      "source": [
        "print(\"A wild 🐉 appears!\")"
      ],
      "execution_count": 0,
      "outputs": [
        {
          "output_type": "stream",
          "text": [
            "A wild 🐉 appears!\n"
          ],
          "name": "stdout"
        }
      ]
    },
    {
      "cell_type": "markdown",
      "metadata": {
        "id": "s-6Oxu7EBedW",
        "colab_type": "text"
      },
      "source": [
        "Okay, what about input? That too is simple in `python`. Run this cell:"
      ]
    },
    {
      "cell_type": "code",
      "metadata": {
        "id": "2alytu3Wov9Y",
        "colab_type": "code",
        "colab": {
          "base_uri": "https://localhost:8080/",
          "height": 85
        },
        "outputId": "5a31bee6-cddd-4dfd-e081-ab1edafcf09f"
      },
      "source": [
        "input(\"Tell me what you want to do next, then press Enter: \\n\\n\")"
      ],
      "execution_count": 6,
      "outputs": [
        {
          "output_type": "stream",
          "text": [
            "Tell me what you want to do next, then press Enter: \n",
            "\n",
            "Run away!\n"
          ],
          "name": "stdout"
        },
        {
          "output_type": "execute_result",
          "data": {
            "text/plain": [
              "'Run away!'"
            ]
          },
          "metadata": {
            "tags": []
          },
          "execution_count": 6
        }
      ]
    },
    {
      "cell_type": "markdown",
      "metadata": {
        "id": "8tZl4O7PB6Z-",
        "colab_type": "text"
      },
      "source": [
        "This time the code prompted you to enter some text - that's what `input` does in `python`. For example, you could write \"Run away!\" in the box and press enter."
      ]
    },
    {
      "cell_type": "markdown",
      "metadata": {
        "id": "cUXEXRuRCTbZ",
        "colab_type": "text"
      },
      "source": [
        "You come to a fork in the path ...\n",
        "----------------------------------\n",
        "\n",
        "So, we've learnt that code can expect inputs and give you outputs. But that's like telling you cakes sit on plates and have cherries on top: it may be true, but it doesn't tell you how to bake one.\n",
        "\n",
        "In this next bit, we'll talk about writing code to *do* things. Ideally, more than one thing - we want code that produces different outputs if you give it different inputs!\n",
        "\n",
        "First of all, let's go back to that last bit of code and change it a bit:\n",
        "\n"
      ]
    },
    {
      "cell_type": "code",
      "metadata": {
        "id": "EevzGHnGBsEB",
        "colab_type": "code",
        "colab": {}
      },
      "source": [
        "what_you_want_to_do = input(\"Tell me what you want to do next, then press Enter: \\n\\n\")"
      ],
      "execution_count": 0,
      "outputs": []
    },
    {
      "cell_type": "markdown",
      "metadata": {
        "id": "tZ0v2PfxEgSh",
        "colab_type": "text"
      },
      "source": [
        "So what's that all about? This time, we told python to set something called `what_you_want_to_do` _equal to_ `input`. This _stores_ the input.\n",
        "\n",
        "`what_you_want_to_do` is something we call a **variable**. It's like a box that can hold *various* different things.\n",
        "\n",
        "We can open the box whenever we need to:"
      ]
    },
    {
      "cell_type": "code",
      "metadata": {
        "id": "HuMsHhSlFH81",
        "colab_type": "code",
        "colab": {
          "base_uri": "https://localhost:8080/",
          "height": 34
        },
        "outputId": "55f4a3b5-d013-42d9-e34c-f83debcf4228"
      },
      "source": [
        "print(what_you_want_to_do)"
      ],
      "execution_count": 7,
      "outputs": [
        {
          "output_type": "stream",
          "text": [
            "Run away!\n"
          ],
          "name": "stdout"
        }
      ]
    },
    {
      "cell_type": "markdown",
      "metadata": {
        "id": "VagJ0dmZFXrP",
        "colab_type": "text"
      },
      "source": [
        "... and we can put new things in the box if we prefer:"
      ]
    },
    {
      "cell_type": "code",
      "metadata": {
        "id": "F6L6UsNDFa3Q",
        "colab_type": "code",
        "colab": {
          "base_uri": "https://localhost:8080/",
          "height": 34
        },
        "outputId": "07d9f63c-6473-4498-e496-7df707de02b9"
      },
      "source": [
        "what_you_want_to_do = \"Climb a tree!\"\n",
        "\n",
        "print(what_you_want_to_do)"
      ],
      "execution_count": 8,
      "outputs": [
        {
          "output_type": "stream",
          "text": [
            "Climb a tree!\n"
          ],
          "name": "stdout"
        }
      ]
    },
    {
      "cell_type": "markdown",
      "metadata": {
        "id": "W19dsSvJFhZn",
        "colab_type": "text"
      },
      "source": [
        "See how `print(what_you_want_to_do)` *outputs* whatever was in the box?"
      ]
    },
    {
      "cell_type": "code",
      "metadata": {
        "id": "sRsl9-oJFgNw",
        "colab_type": "code",
        "colab": {}
      },
      "source": [
        ""
      ],
      "execution_count": 0,
      "outputs": []
    }
  ]
}