{
  "nbformat": 4,
  "nbformat_minor": 0,
  "metadata": {
    "colab": {
      "name": "adventurous-intro.ipynb",
      "provenance": [],
      "collapsed_sections": [],
      "authorship_tag": "ABX9TyNj6n5JeyjnIfpH4A+0TmrC",
      "include_colab_link": true
    },
    "kernelspec": {
      "name": "python3",
      "display_name": "Python 3"
    }
  },
  "cells": [
    {
      "cell_type": "markdown",
      "metadata": {
        "id": "view-in-github",
        "colab_type": "text"
      },
      "source": [
        "<a href=\"https://colab.research.google.com/github/PaddyAlton/adventurous/blob/master/colab-tutorials/adventurous_intro.ipynb\" target=\"_parent\"><img src=\"https://colab.research.google.com/assets/colab-badge.svg\" alt=\"Open In Colab\"/></a>"
      ]
    },
    {
      "cell_type": "markdown",
      "metadata": {
        "id": "GzgMYPA8fnYy",
        "colab_type": "text"
      },
      "source": [
        "Welcome!\n",
        "========\n",
        "\n",
        "Hi there, and welcome to `ADVENTUROUS`.\n",
        "\n",
        "This is the first tutorial. We're going to learn a little bit about a programming language called `python`, and then get started building some games!\n",
        "\n",
        "All the tutorials are hosted on Google Colab as interactive notebooks. You're in one right now! These are great because you can use them to start writing `python` without downloading *anything* onto your computer."
      ]
    },
    {
      "cell_type": "markdown",
      "metadata": {
        "id": "GVhlUu8chtB5",
        "colab_type": "text"
      },
      "source": [
        "Notebooks are a combination of TEXT CELLS (like this one) and CODE CELLS.\n",
        "\n",
        "We use text cells to explain what's going on, and code cells to write `python`.\n",
        "\n",
        "Let's get started."
      ]
    },
    {
      "cell_type": "markdown",
      "metadata": {
        "id": "YixrnllHiF2h",
        "colab_type": "text"
      },
      "source": [
        "You put your left foot in ...\n",
        "-----------------------------\n",
        "\n",
        "The first thing to learn is that computer code has **inputs** and **outputs**.\n",
        "\n",
        "What I mean is: when we run code, it will sometimes you for things, and sometimes it will give you things.\n",
        "\n",
        "There are all sorts of types of inputs and outputs and ways in which they can be handled, but we're going to keep it super simple and focus on *text*.\n",
        "\n",
        "To run the code cell below, hover over the `[ ]` on the left side and click the play button (or click the cell and press `shift + enter`)."
      ]
    },
    {
      "cell_type": "code",
      "metadata": {
        "id": "F1mW3Dz8KRRa",
        "colab_type": "code",
        "colab": {
          "base_uri": "https://localhost:8080/",
          "height": 34
        },
        "outputId": "97d5989a-df6d-4a09-c943-f1485ba8c7c3"
      },
      "source": [
        "print(\"A wild mechafox appears!\")"
      ],
      "execution_count": 1,
      "outputs": [
        {
          "output_type": "stream",
          "text": [
            "A wild mechafox appears!\n"
          ],
          "name": "stdout"
        }
      ]
    },
    {
      "cell_type": "markdown",
      "metadata": {
        "id": "MxSgTHGxndli",
        "colab_type": "text"
      },
      "source": [
        "The first time will sometimes take a while (because Colab has to connect to a remote computer to run the code for you).\n",
        "\n",
        "You should see some text appear under the cell. `print` is how you can tell `python` to output text.\n",
        "\n",
        "You can output all sorts of things, some of which you wouldn't think of as text. That's because it's really something called 'unicode', a universal way of representing symbols - english text, languages with other writing systems, even emoji!\n",
        "\n",
        "Try it:"
      ]
    },
    {
      "cell_type": "code",
      "metadata": {
        "id": "mD1WqTbhnmFR",
        "colab_type": "code",
        "colab": {
          "base_uri": "https://localhost:8080/",
          "height": 34
        },
        "outputId": "5e1916f6-8f65-415d-d0e8-265a97e4ee8a"
      },
      "source": [
        "print(\"A wild 🐉 appears!\")"
      ],
      "execution_count": 2,
      "outputs": [
        {
          "output_type": "stream",
          "text": [
            "A wild 🐉 appears!\n"
          ],
          "name": "stdout"
        }
      ]
    },
    {
      "cell_type": "code",
      "metadata": {
        "id": "2alytu3Wov9Y",
        "colab_type": "code",
        "colab": {}
      },
      "source": [
        ""
      ],
      "execution_count": 0,
      "outputs": []
    }
  ]
}