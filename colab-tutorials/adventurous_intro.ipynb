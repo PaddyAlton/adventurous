{
  "nbformat": 4,
  "nbformat_minor": 0,
  "metadata": {
    "colab": {
      "name": "adventurous-intro.ipynb",
      "provenance": [],
      "collapsed_sections": [],
      "authorship_tag": "ABX9TyP89oAaFqpVcyVWW6z8uyLl",
      "include_colab_link": true
    },
    "kernelspec": {
      "name": "python3",
      "display_name": "Python 3"
    }
  },
  "cells": [
    {
      "cell_type": "markdown",
      "metadata": {
        "id": "view-in-github",
        "colab_type": "text"
      },
      "source": [
        "<a href=\"https://colab.research.google.com/github/PaddyAlton/adventurous/blob/master/colab-tutorials/adventurous_intro.ipynb\" target=\"_parent\"><img src=\"https://colab.research.google.com/assets/colab-badge.svg\" alt=\"Open In Colab\"/></a>"
      ]
    },
    {
      "cell_type": "markdown",
      "metadata": {
        "id": "GzgMYPA8fnYy",
        "colab_type": "text"
      },
      "source": [
        "Welcome!\n",
        "========\n",
        "\n",
        "Hi there, and welcome to `ADVENTUROUS`.\n",
        "\n",
        "This is the first tutorial. We're going to learn a little bit about a programming, using a language called `python`, and then afterwards we can get started building some games!\n",
        "\n",
        "All the tutorials are hosted on Google Colab as interactive notebooks. You're looking at one right now! These are great because you can use them to start writing `python` without downloading *anything* onto your computer."
      ]
    },
    {
      "cell_type": "markdown",
      "metadata": {
        "id": "GVhlUu8chtB5",
        "colab_type": "text"
      },
      "source": [
        "Notebooks are a combination of TEXT CELLS (like this one) and CODE CELLS.\n",
        "\n",
        "We use text cells to explain what's going on, and code cells to write `python`.\n",
        "\n",
        "Let's get started."
      ]
    },
    {
      "cell_type": "markdown",
      "metadata": {
        "id": "OF90qDiyx3bT",
        "colab_type": "text"
      },
      "source": [
        "Why code?\n",
        "---------\n",
        "\n",
        "There are loads of reasons to learn computer programming/coding. In `ADVENTUROUS` we're going to focus on some of the fun ones - using computers to make simple, creative games that you can share with friends and family.\n",
        "\n",
        "These won't be the kind of thing you get on a games console; think of them more like interactive stories that you're going to write. Coding should be creative!\n",
        "\n",
        "We're going to write in a programming language called `python`. Any programming language has one job: to allow humans to write instructions that a computer can follow. These instructions are what we mean by 'computer code'. `python` is known for being a bit more friendly than some other languages, but it's still able to be used for all sorts of different things, so it's a great first language for new programmers."
      ]
    },
    {
      "cell_type": "markdown",
      "metadata": {
        "id": "YixrnllHiF2h",
        "colab_type": "text"
      },
      "source": [
        "You put your left foot in ...\n",
        "-----------------------------\n",
        "\n",
        "The first thing to learn is that computer code has **inputs** and **outputs**.\n",
        "\n",
        "What I mean is: when we run code, it will sometimes *ask you for things*, and sometimes *it will give you things*.\n",
        "\n",
        "There are all sorts of types of inputs and outputs and ways in which they can be handled, but we're going to keep it super simple and focus on *text*.\n",
        "\n",
        "To run the code cell below, hover over the `[ ]` on the left side and click the play button (or click the cell and press `shift + enter`)."
      ]
    },
    {
      "cell_type": "code",
      "metadata": {
        "id": "F1mW3Dz8KRRa",
        "colab_type": "code",
        "outputId": "d3ae5813-06ab-4d99-c3d3-47cd4ac5ff71",
        "colab": {
          "base_uri": "https://localhost:8080/",
          "height": 34
        }
      },
      "source": [
        "print(\"A wild mechafox appears!\")"
      ],
      "execution_count": 0,
      "outputs": [
        {
          "output_type": "stream",
          "text": [
            "A wild mechafox appears!\n"
          ],
          "name": "stdout"
        }
      ]
    },
    {
      "cell_type": "markdown",
      "metadata": {
        "id": "MxSgTHGxndli",
        "colab_type": "text"
      },
      "source": [
        "The first time will sometimes take a while (because Colab has to connect to a remote computer to run the code for you).\n",
        "\n",
        "You should see some text appear under the cell. `print` is how you can tell `python` to output text.\n",
        "\n",
        "**From now on, you should run every code cell you see once you've read all the text above it**\n",
        "\n",
        "You can output all sorts of things, some of which you might not even think of as text. That's because the text is really something called *unicode*, a universal way of representing symbols - English text, languages such as Arabic and Korean with other writing systems, even emoji!\n",
        "\n",
        "Try it:"
      ]
    },
    {
      "cell_type": "code",
      "metadata": {
        "id": "mD1WqTbhnmFR",
        "colab_type": "code",
        "outputId": "e8aa987b-38ad-444b-f09b-38ba04eba1a5",
        "colab": {
          "base_uri": "https://localhost:8080/",
          "height": 34
        }
      },
      "source": [
        "print(\"A wild 🐉 appears!\")"
      ],
      "execution_count": 0,
      "outputs": [
        {
          "output_type": "stream",
          "text": [
            "A wild 🐉 appears!\n"
          ],
          "name": "stdout"
        }
      ]
    },
    {
      "cell_type": "markdown",
      "metadata": {
        "id": "CmGHLR0F3A0w",
        "colab_type": "text"
      },
      "source": [
        "By the way, we'll often talk about *lines of code*. When you run a code cell, the first line will run first, then the second, and so on."
      ]
    },
    {
      "cell_type": "markdown",
      "metadata": {
        "id": "s-6Oxu7EBedW",
        "colab_type": "text"
      },
      "source": [
        "Okay, what about input? That too is simple in `python`. Run this cell:"
      ]
    },
    {
      "cell_type": "code",
      "metadata": {
        "id": "2alytu3Wov9Y",
        "colab_type": "code",
        "outputId": "33dec1ea-bdfb-4f2b-a7e5-4ea6fffa0fcc",
        "colab": {
          "base_uri": "https://localhost:8080/",
          "height": 85
        }
      },
      "source": [
        "input(\"Tell me what you want to do next, then press Enter: \\n\\n\")"
      ],
      "execution_count": 0,
      "outputs": [
        {
          "output_type": "stream",
          "text": [
            "Tell me what you want to do next, then press Enter: \n",
            "\n",
            "Run away!\n"
          ],
          "name": "stdout"
        },
        {
          "output_type": "execute_result",
          "data": {
            "text/plain": [
              "'Run away!'"
            ]
          },
          "metadata": {
            "tags": []
          },
          "execution_count": 3
        }
      ]
    },
    {
      "cell_type": "markdown",
      "metadata": {
        "id": "8tZl4O7PB6Z-",
        "colab_type": "text"
      },
      "source": [
        "This time the code prompted you to enter some text into a box - that's what `input` does in `python`. For example, you could write \"Run away!\" in the box and press enter."
      ]
    },
    {
      "cell_type": "markdown",
      "metadata": {
        "id": "cUXEXRuRCTbZ",
        "colab_type": "text"
      },
      "source": [
        "What's inside the Treasure Chest?\n",
        "---------------------------------\n",
        "\n",
        "So, we've learnt that code can expect inputs and give you outputs. But that's like telling you cakes sit on plates and have cherries on top: it may be true, but it doesn't tell you how to bake one.\n",
        "\n",
        "In this next bit, we'll talk about writing code to *do* things. Ideally, more than one thing: we want code that produces different outputs if you give it different inputs!\n",
        "\n",
        "First of all, let's go back to that last bit of code and change it a bit:\n",
        "\n"
      ]
    },
    {
      "cell_type": "code",
      "metadata": {
        "id": "EevzGHnGBsEB",
        "colab_type": "code",
        "outputId": "924bc26b-08a8-4684-edca-58afd6ec9f1f",
        "colab": {
          "base_uri": "https://localhost:8080/",
          "height": 68
        }
      },
      "source": [
        "what_you_want_to_do = input(\"Tell me what you want to do next, then press Enter: \\n\\n\")"
      ],
      "execution_count": 0,
      "outputs": [
        {
          "output_type": "stream",
          "text": [
            "Tell me what you want to do next, then press Enter: \n",
            "\n",
            "Run away!\n"
          ],
          "name": "stdout"
        }
      ]
    },
    {
      "cell_type": "markdown",
      "metadata": {
        "id": "tZ0v2PfxEgSh",
        "colab_type": "text"
      },
      "source": [
        "So what's that all about? This time, we told python to set something called `what_you_want_to_do` _equal to_ `input`. This _stores_ the input.\n",
        "\n",
        "`what_you_want_to_do` is something we call a **variable**. It's like a box that can hold *various* different things.\n",
        "\n",
        "We can open the box whenever we need to:"
      ]
    },
    {
      "cell_type": "code",
      "metadata": {
        "id": "HuMsHhSlFH81",
        "colab_type": "code",
        "outputId": "87d0f43b-041a-401b-ed05-6feb97c37677",
        "colab": {
          "base_uri": "https://localhost:8080/",
          "height": 34
        }
      },
      "source": [
        "print(what_you_want_to_do)"
      ],
      "execution_count": 0,
      "outputs": [
        {
          "output_type": "stream",
          "text": [
            "Run away!\n"
          ],
          "name": "stdout"
        }
      ]
    },
    {
      "cell_type": "markdown",
      "metadata": {
        "id": "VagJ0dmZFXrP",
        "colab_type": "text"
      },
      "source": [
        "... and we can put new things in the box if we prefer:"
      ]
    },
    {
      "cell_type": "code",
      "metadata": {
        "id": "F6L6UsNDFa3Q",
        "colab_type": "code",
        "outputId": "92654623-8d8e-40a2-e56e-0b9c76681e04",
        "colab": {
          "base_uri": "https://localhost:8080/",
          "height": 34
        }
      },
      "source": [
        "what_you_want_to_do = \"Climb a tree!\"\n",
        "\n",
        "print(what_you_want_to_do)"
      ],
      "execution_count": 0,
      "outputs": [
        {
          "output_type": "stream",
          "text": [
            "Climb a tree!\n"
          ],
          "name": "stdout"
        }
      ]
    },
    {
      "cell_type": "markdown",
      "metadata": {
        "id": "W19dsSvJFhZn",
        "colab_type": "text"
      },
      "source": [
        "See how `print(what_you_want_to_do)` *outputs* whatever was in the box/variable?"
      ]
    },
    {
      "cell_type": "markdown",
      "metadata": {
        "id": "0a2KwCQSaOwQ",
        "colab_type": "text"
      },
      "source": [
        "How long is a piece of string?\n",
        "------------------------------\n",
        "\n",
        "It doesn't just have to be text either. There are various *types* of thing in `python`. We can check what type of thing is in a variable, it's simple:"
      ]
    },
    {
      "cell_type": "code",
      "metadata": {
        "id": "14aCIMMlWt6r",
        "colab_type": "code",
        "outputId": "2774cade-cb58-4f31-bce1-3835b1cd998b",
        "colab": {
          "base_uri": "https://localhost:8080/",
          "height": 34
        }
      },
      "source": [
        "print(type(what_you_want_to_do))"
      ],
      "execution_count": 0,
      "outputs": [
        {
          "output_type": "execute_result",
          "data": {
            "text/plain": [
              "str"
            ]
          },
          "metadata": {
            "tags": []
          },
          "execution_count": 7
        }
      ]
    },
    {
      "cell_type": "markdown",
      "metadata": {
        "id": "CM8LcY7hW6ce",
        "colab_type": "text"
      },
      "source": [
        "Hold on, `str`? Don't worry, it's just short for 'string'.\n",
        "\n",
        "Now I know what you're thinking - we put *text* in that box, not *string*. Fear not! In programming, we usually don't say 'text', we say 'character strings'. \n",
        "\n",
        "This reminds us that computers don't understand *words*. They can store symbols (which we also call characters), and they can store them in an order - a string of symbols, a character string. `str`."
      ]
    },
    {
      "cell_type": "markdown",
      "metadata": {
        "id": "F0m2zmW9bRB_",
        "colab_type": "text"
      },
      "source": [
        "Floating on a stream\n",
        "--------------------\n",
        "\n",
        "Here's another type of thing: numbers. Computers, famously, are good at maths. Ask them to add, subtract, multiply, or divide and they'll do it very speedily.\n",
        "\n",
        "Did you know there are actually *two* types of numbers...?"
      ]
    },
    {
      "cell_type": "code",
      "metadata": {
        "id": "3RITk8Nrb28k",
        "colab_type": "code",
        "colab": {}
      },
      "source": [
        "coins_in_my_pocket = 12\n",
        "\n",
        "weight_of_my_backpack = 12.4"
      ],
      "execution_count": 0,
      "outputs": []
    },
    {
      "cell_type": "markdown",
      "metadata": {
        "id": "nr64lZ7cc-9F",
        "colab_type": "text"
      },
      "source": [
        "Has anyone ever given you grief for using the word 'less' instead of 'fewer'?\n",
        "\n",
        "* My backpack weighs *less* now.\n",
        "* I have *fewer* coins in my pocket than before.\n",
        "\n",
        "... but not\n",
        "\n",
        "* My backpack weighs fewer now\n",
        "* I have less coins in my pocket than before\n",
        "\n",
        "Why two different words? You can't have half a coin, ... what? ... okay, fine, you can cut one in two but it'll be useless - but you can add as much or as little weight as you like to a backpack. \n",
        "\n",
        "Sometimes people will call these 'discrete quantities' (it doesn't mean they're good at keeping secrets) and 'continuous quantities'. Sometimes they'll call them 'countable' and 'uncountable'.\n",
        "\n",
        "Computers, of course, have silly names for them."
      ]
    },
    {
      "cell_type": "code",
      "metadata": {
        "id": "WabLMbove0fq",
        "colab_type": "code",
        "outputId": "8a81f832-4933-4212-c331-e1a998eec29e",
        "colab": {
          "base_uri": "https://localhost:8080/",
          "height": 34
        }
      },
      "source": [
        "type(coins_in_my_pocket)"
      ],
      "execution_count": 0,
      "outputs": [
        {
          "output_type": "execute_result",
          "data": {
            "text/plain": [
              "int"
            ]
          },
          "metadata": {
            "tags": []
          },
          "execution_count": 11
        }
      ]
    },
    {
      "cell_type": "markdown",
      "metadata": {
        "id": "N1aNIXGZfJhH",
        "colab_type": "text"
      },
      "source": [
        "`int` is short for 'integer'. That's a maths-y word for 'whole number'.\n",
        "\n",
        "Did you notice I didn't use `print` this time? Keep an eye out for things like that! If you don't assign things to a variable using an `=` sign on the last line of a code cell, the notebook figures out that it should output them underneath. I'll do this freely from now on to make things neater."
      ]
    },
    {
      "cell_type": "code",
      "metadata": {
        "id": "bv_fcK73fBEZ",
        "colab_type": "code",
        "outputId": "b70f86a8-fb4f-4429-de4d-1f2211872bb2",
        "colab": {
          "base_uri": "https://localhost:8080/",
          "height": 34
        }
      },
      "source": [
        "type(weight_of_my_backpack)"
      ],
      "execution_count": 0,
      "outputs": [
        {
          "output_type": "execute_result",
          "data": {
            "text/plain": [
              "float"
            ]
          },
          "metadata": {
            "tags": []
          },
          "execution_count": 14
        }
      ]
    },
    {
      "cell_type": "markdown",
      "metadata": {
        "id": "epkaZ0R5gR14",
        "colab_type": "text"
      },
      "source": [
        "`float`!? This one is short for 'floating point number'. No, really. The number stored in `weight_of_my_backpack` had a *decimal point*. As to why that decimal point is floating... never mind. All you need to know is the difference between `int` and `float` is like the difference between 'fewer' and 'less'.\n",
        "\n",
        "Oh, and while we're at it, here's how to do simple maths with them:"
      ]
    },
    {
      "cell_type": "code",
      "metadata": {
        "id": "NXZCGHw9pCTH",
        "colab_type": "code",
        "outputId": "3852d97a-d850-4b54-decd-a427408be6f3",
        "colab": {
          "base_uri": "https://localhost:8080/",
          "height": 34
        }
      },
      "source": [
        "coins_in_my_pocket - 5 # subtract"
      ],
      "execution_count": 0,
      "outputs": [
        {
          "output_type": "execute_result",
          "data": {
            "text/plain": [
              "7"
            ]
          },
          "metadata": {
            "tags": []
          },
          "execution_count": 15
        }
      ]
    },
    {
      "cell_type": "code",
      "metadata": {
        "id": "bhdIiJxUpKEg",
        "colab_type": "code",
        "outputId": "d02231a0-5ee2-46a4-cd62-3b70977f2aac",
        "colab": {
          "base_uri": "https://localhost:8080/",
          "height": 34
        }
      },
      "source": [
        "weight_of_my_backpack / 2 # divide"
      ],
      "execution_count": 0,
      "outputs": [
        {
          "output_type": "execute_result",
          "data": {
            "text/plain": [
              "6.2"
            ]
          },
          "metadata": {
            "tags": []
          },
          "execution_count": 16
        }
      ]
    },
    {
      "cell_type": "code",
      "metadata": {
        "id": "WAaBS44ypPaL",
        "colab_type": "code",
        "outputId": "9083bd92-21c6-4b0e-94c6-5778c54eabb0",
        "colab": {
          "base_uri": "https://localhost:8080/",
          "height": 34
        }
      },
      "source": [
        "coins_in_my_pocket * 3 # multiply"
      ],
      "execution_count": 0,
      "outputs": [
        {
          "output_type": "execute_result",
          "data": {
            "text/plain": [
              "36"
            ]
          },
          "metadata": {
            "tags": []
          },
          "execution_count": 17
        }
      ]
    },
    {
      "cell_type": "code",
      "metadata": {
        "id": "WQ_JPOwLpRlj",
        "colab_type": "code",
        "outputId": "eea8f3d2-968a-479a-8ca9-844195adf68c",
        "colab": {
          "base_uri": "https://localhost:8080/",
          "height": 34
        }
      },
      "source": [
        "weight_of_my_backpack + 4 # add"
      ],
      "execution_count": 0,
      "outputs": [
        {
          "output_type": "execute_result",
          "data": {
            "text/plain": [
              "16.4"
            ]
          },
          "metadata": {
            "tags": []
          },
          "execution_count": 18
        }
      ]
    },
    {
      "cell_type": "markdown",
      "metadata": {
        "id": "YezemeBIphic",
        "colab_type": "text"
      },
      "source": [
        "The `#` is new - this marks what we call a *comment*. Anything after a '#' is skipped and we go to the next line. It can be useful for explaining what your code is doing."
      ]
    },
    {
      "cell_type": "markdown",
      "metadata": {
        "id": "rLowwAGoWM0H",
        "colab_type": "text"
      },
      "source": [
        "You come to a fork in the path ...\n",
        "----------------------------------\n",
        "\n",
        "> \"*They had been going for several hours with only brief halts, when Gandalf came to his first serious check. Before him stood a wide dark arch opening into three passages: all led in the same general direction, eastwards; but the left-hand passage plunged down, while the right-hand climbed up, and the middle way seemed to run on, smooth and level but very narrow.*\n",
        ">\n",
        "> '*I have no memory of this place at all!' said Gandalf, standing uncertainly under the arch. He held up his staff in the hope of finding some marks or inscription that might help his choice; but nothing of the kind was to be seen. 'I am too weary to decide,' he said, shaking his head.\"*\n",
        "\n",
        "\n",
        "(from 'The Fellowship of the Ring', by J. R. R. Tolkien)\n",
        "\n",
        "Sometimes you need to make decisions. Which path to take, whether to take some action - or not. `python` also has a way of doing this!\n",
        "\n",
        "If you came to a fork in a path, and you couldn't decide which way to go, maybe you would flip a coin? Heads I go left, tails I go right.\n",
        "\n",
        "In `python`, there's a type which is a bit like a coin... it can be `True` or `False`. We call this a 'Boolean' - it's named after a guy called [George Boole](https://en.wikipedia.org/wiki/George_Boole) who worked on the maths that allows computers to work.\n",
        "\n",
        "You can use *Booleans* to get computer programmes to take different paths:"
      ]
    },
    {
      "cell_type": "code",
      "metadata": {
        "id": "sRsl9-oJFgNw",
        "colab_type": "code",
        "outputId": "972b6bf8-50f3-4b73-c46a-8cb1935969b4",
        "colab": {
          "base_uri": "https://localhost:8080/",
          "height": 34
        }
      },
      "source": [
        "coin_was_heads = True # we put 'True' in a variable\n",
        "\n",
        "if coin_was_heads:\n",
        "  print(\"I'm going left!\")\n",
        "else:\n",
        "  print(\"I'm going right!\")"
      ],
      "execution_count": 0,
      "outputs": [
        {
          "output_type": "stream",
          "text": [
            "I'm going left!\n"
          ],
          "name": "stdout"
        }
      ]
    },
    {
      "cell_type": "code",
      "metadata": {
        "id": "waX2jUOGPjFA",
        "colab_type": "code",
        "outputId": "9c356c53-7d05-40cf-a778-500e79c7d1c3",
        "colab": {
          "base_uri": "https://localhost:8080/",
          "height": 34
        }
      },
      "source": [
        "coin_was_heads = False # we put 'False' into the variable instead\n",
        "\n",
        "if coin_was_heads:\n",
        "  print(\"I'm going left!\")\n",
        "else:\n",
        "  print(\"I'm going right!\")"
      ],
      "execution_count": 0,
      "outputs": [
        {
          "output_type": "stream",
          "text": [
            "I'm going right!\n"
          ],
          "name": "stdout"
        }
      ]
    },
    {
      "cell_type": "markdown",
      "metadata": {
        "id": "x4j3m6UaPrIs",
        "colab_type": "text"
      },
      "source": [
        "Did you see what happened?\n",
        "\n",
        "`if` is a way of looking inside the box. If `True` is inside, then the code will do something.\n",
        "\n",
        "`else` is optional, but tells you to do something *else* if the variable *wasn't* `True`.\n",
        "\n",
        "Let's look at some more examples.\n",
        "\n",
        "Oh look, a well! Shall we throw a stone down it? Let's flip a coin to decide..."
      ]
    },
    {
      "cell_type": "code",
      "metadata": {
        "id": "k_x3FvXSPpT7",
        "colab_type": "code",
        "outputId": "0e9a405d-7dac-40e8-9c77-bb06adabf77b",
        "colab": {
          "base_uri": "https://localhost:8080/",
          "height": 51
        }
      },
      "source": [
        "coin_was_heads = True\n",
        "\n",
        "if coin_was_heads:\n",
        "  print(\"I'm throwing a stone down this well!\")\n",
        "\n",
        "print(\"Moving on...\")"
      ],
      "execution_count": 0,
      "outputs": [
        {
          "output_type": "stream",
          "text": [
            "I'm throwing a stone down this well!\n",
            "Moving on...\n"
          ],
          "name": "stdout"
        }
      ]
    },
    {
      "cell_type": "code",
      "metadata": {
        "id": "qUO3WX_QR-SY",
        "colab_type": "code",
        "outputId": "7cb08501-3ec1-4f38-9ea2-38ae52c08e02",
        "colab": {
          "base_uri": "https://localhost:8080/",
          "height": 34
        }
      },
      "source": [
        "coin_was_heads = False\n",
        "\n",
        "if coin_was_heads:\n",
        "  print(\"I'm throwing a stone down this well!\")\n",
        "\n",
        "print(\"Moving on...\")"
      ],
      "execution_count": 0,
      "outputs": [
        {
          "output_type": "stream",
          "text": [
            "Moving on...\n"
          ],
          "name": "stdout"
        }
      ]
    },
    {
      "cell_type": "markdown",
      "metadata": {
        "id": "ILNAOQYnSc4f",
        "colab_type": "text"
      },
      "source": [
        "One thing that makes `python` different from other programming languages is that we use\n",
        "> indentation\n",
        "\n",
        "to mark out which bits of code should run. In both cases, `print(\"Moving on...\")` is not part of what we call the *if block*.\n",
        "\n",
        "Whether the coin was heads or not only controls whether the first `print` happens or not."
      ]
    },
    {
      "cell_type": "markdown",
      "metadata": {
        "id": "z7EXXmHxT2jn",
        "colab_type": "text"
      },
      "source": [
        "Answer my riddles correctly, and you can go free...\n",
        "---------------------------------------------------\n",
        "\n",
        "The other way to use 'Booleans' is to ask `python` questions. How do you do that?"
      ]
    },
    {
      "cell_type": "code",
      "metadata": {
        "id": "zkSX0RQbSbm1",
        "colab_type": "code",
        "outputId": "bc720181-1efe-48ab-a114-898f48cfa898",
        "colab": {
          "base_uri": "https://localhost:8080/",
          "height": 34
        }
      },
      "source": [
        "what_you_want_to_do = \"Run away!\" # one = ... sets variable to \"Run away!\"\n",
        "\n",
        "what_you_want_to_do == \"Run away!\" # two = ... 'is variable equal to \"Run away!\" ?"
      ],
      "execution_count": 0,
      "outputs": [
        {
          "output_type": "execute_result",
          "data": {
            "text/plain": [
              "True"
            ]
          },
          "metadata": {
            "tags": []
          },
          "execution_count": 23
        }
      ]
    },
    {
      "cell_type": "markdown",
      "metadata": {
        "id": "ElWWkqFEbTJH",
        "colab_type": "text"
      },
      "source": [
        "One `=` sign sets the variable `what_you_want_to_do` to `\"Run away!\"`, a string.\n",
        "\n",
        "Two `=` signs, written `==` checks whether the variable is equal to the string `\"Run away!\"` (in other words, we can ask the *question*, \"is `what_you_want_to_do` 'Run away!'?\")\n",
        "\n",
        "If it *is*, you get back `True`. If it isn't ..."
      ]
    },
    {
      "cell_type": "code",
      "metadata": {
        "id": "zgbazpmkbRwc",
        "colab_type": "code",
        "outputId": "23f0eaf3-7023-4df2-cb69-e15cbda43d48",
        "colab": {
          "base_uri": "https://localhost:8080/",
          "height": 34
        }
      },
      "source": [
        "what_you_want_to_do = \"Climb a tree!\"\n",
        "\n",
        "what_you_want_to_do == \"Run away!\""
      ],
      "execution_count": 0,
      "outputs": [
        {
          "output_type": "execute_result",
          "data": {
            "text/plain": [
              "False"
            ]
          },
          "metadata": {
            "tags": []
          },
          "execution_count": 24
        }
      ]
    },
    {
      "cell_type": "markdown",
      "metadata": {
        "id": "BZkH4tP2bujF",
        "colab_type": "text"
      },
      "source": [
        "... you get back `False`.\n",
        "\n",
        "You can also take the answer and put it in a variable. Watch carefully:"
      ]
    },
    {
      "cell_type": "code",
      "metadata": {
        "id": "Vj78dCVdbtxa",
        "colab_type": "code",
        "outputId": "e21f9756-250d-4128-ed44-45de03cb24bf",
        "colab": {
          "base_uri": "https://localhost:8080/",
          "height": 34
        }
      },
      "source": [
        "what_you_want_to_do = \"Climb a tree!\"\n",
        "\n",
        "do_you_want_to_run_away = what_you_want_to_do == \"Run away!\"\n",
        "\n",
        "print(do_you_want_to_run_away)"
      ],
      "execution_count": 0,
      "outputs": [
        {
          "output_type": "stream",
          "text": [
            "False\n"
          ],
          "name": "stdout"
        }
      ]
    },
    {
      "cell_type": "markdown",
      "metadata": {
        "id": "bJuAIc26cLUl",
        "colab_type": "text"
      },
      "source": [
        "`False` - I do *not* want to run away.\n",
        "\n",
        "These aren't the only kinds of questions you can ask. You can use \n",
        "\n",
        "* `!=` to ask if a variable is *not* equal to something.\n",
        "* `>` to ask if a variable is *greater* than something\n",
        "* `<` to ask if a variable is *less* than something\n",
        "* `>=`, `<=` for 'greater than *or* equal', 'less than *or* equal'\n",
        "\n",
        "There are also some special words you can use, including `not` and `in`.\n",
        "\n",
        "`not` flips your Boolean 'coin' to the other side. For example, you can ask `if not True:`, and that is like `if False:`. Here's an example:"
      ]
    },
    {
      "cell_type": "code",
      "metadata": {
        "id": "v5woStp2uQIm",
        "colab_type": "code",
        "colab": {
          "base_uri": "https://localhost:8080/",
          "height": 34
        },
        "outputId": "317a6cb2-486a-43b7-ea6f-afc930186d69"
      },
      "source": [
        "coin_was_heads = False\n",
        "\n",
        "if not coin_was_heads:\n",
        "  print(\"I'm throwing a stone down this well!\")"
      ],
      "execution_count": 1,
      "outputs": [
        {
          "output_type": "stream",
          "text": [
            "I'm throwing a stone down this well!\n"
          ],
          "name": "stdout"
        }
      ]
    },
    {
      "cell_type": "markdown",
      "metadata": {
        "id": "hKJ5xIqHuRoL",
        "colab_type": "text"
      },
      "source": [
        "`in` has several uses, but for now let's stick to this:"
      ]
    },
    {
      "cell_type": "code",
      "metadata": {
        "id": "y647tFB-cBWP",
        "colab_type": "code",
        "outputId": "474f2b65-ed85-4274-e68c-5b22f8c4d827",
        "colab": {
          "base_uri": "https://localhost:8080/",
          "height": 34
        }
      },
      "source": [
        "animal = 'lion'\n",
        "\n",
        "zoo = 'lion, tiger, camel'\n",
        "\n",
        "if animal in zoo:\n",
        "  print(\"ROAR!\")"
      ],
      "execution_count": 0,
      "outputs": [
        {
          "output_type": "stream",
          "text": [
            "ROAR!\n"
          ],
          "name": "stdout"
        }
      ]
    },
    {
      "cell_type": "markdown",
      "metadata": {
        "id": "S9VIqdNH5ff7",
        "colab_type": "text"
      },
      "source": [
        "This checked whether the *string* 'lion' could be found somewhere *in* the longer string 'lion, tiger, camel'.\n",
        "\n",
        "We call these questions *logical statements*. We'll meet more of these in a future lesson!"
      ]
    },
    {
      "cell_type": "markdown",
      "metadata": {
        "id": "1BHvXWAXw9tn",
        "colab_type": "text"
      },
      "source": [
        "Wrapping up\n",
        "-----------\n",
        "\n",
        "> \"*Very pretty!\" said Gandalf. \"But I have no time to blow smoke-rings this morning. I am looking for someone to share in an adventure that I am arranging, and it's very difficult to find anyone.\"*\n",
        "\n",
        "(from *The Hobbit*, by J. R. R. Tolkien)\n",
        "\n",
        "In this lesson you should have learnt about\n",
        "\n",
        "* inputs and outputs\n",
        "* variables and types\n",
        "* if/else and logical statements\n",
        "\n",
        "The great news is that this is enough to make your first game! Try this one:"
      ]
    },
    {
      "cell_type": "code",
      "metadata": {
        "id": "A4bD70yC5e4R",
        "colab_type": "code",
        "colab": {}
      },
      "source": [
        ""
      ],
      "execution_count": 0,
      "outputs": []
    }
  ]
}